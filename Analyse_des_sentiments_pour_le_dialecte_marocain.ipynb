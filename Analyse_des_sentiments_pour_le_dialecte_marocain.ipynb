{
  "cells": [
    {
      "cell_type": "markdown",
      "metadata": {
        "id": "view-in-github",
        "colab_type": "text"
      },
      "source": [
        "<a href=\"https://colab.research.google.com/github/zine1919/Projets/blob/main/Analyse_des_sentiments_pour_le_dialecte_marocain.ipynb\" target=\"_parent\"><img src=\"https://colab.research.google.com/assets/colab-badge.svg\" alt=\"Open In Colab\"/></a>"
      ]
    },
    {
      "cell_type": "code",
      "source": [
        "import re\n",
        "\n",
        "def lowercase(text): #Convertir en minuscules\n",
        "    return text.lower()\n",
        "\n",
        "def remove_digits(text): #Supprimer les chiffres\n",
        "    return re.sub(\"[0-9]\", \"\", text)\n",
        "\n",
        "def remove_extra_spaces(text): #Remplacer les espaces multiples par un seul espace\n",
        "    text = re.sub(\" +\", \" \", text)\n",
        "    return text\n",
        "\n",
        "def remove_links(text): #Supprimer les liens (URLs)\n",
        "    text = re.sub(r\"http\\S+\", \" \", text, flags=re.MULTILINE)\n",
        "    return text\n",
        "\n",
        "def remove_tags_hash(text): #Supprimer les mentions @ et les hashtags #\n",
        "\n",
        "    arabic_username_pattern = r\"@[\\u0600-\\u06FF]+\"\n",
        "    arabic_hashtag_pattern = r\"#[\\u0600-\\u06FF]+\"\n",
        "\n",
        "    text = re.sub(arabic_username_pattern, \" \", text)\n",
        "    text = re.sub(arabic_hashtag_pattern, \" \", text)\n",
        "\n",
        "    text = re.sub(r\"(@[A-Za-z0-9_]+)\", \" \", text)\n",
        "    text = re.sub(r\"(#[A-Za-z0-9_]+)\", \" \", text)\n",
        "    return text\n",
        "\n",
        "def remove_repeated(text): #Supprimer les caractères répétés\n",
        "    return re.sub(r\"(.)\\1+\", r\"\\1\\1\", text)\n",
        "\n",
        "def remove_empty_lines(text): #Supprimer les lignes vides\n",
        "    lines = text.split(\"\\n\")\n",
        "    return (\"\\n\").join([line for line in lines if len(line) > 1])\n",
        "\n",
        "def normalize_letter(text):\n",
        "    letters = {\n",
        "        \"ت\": list(\"تث\"),\n",
        "        \"د\": list(\"دذ\"),\n",
        "        \"ض\": list(\"ظض\"),\n",
        "        \"ا\": list('اأإئآؤء'),\n",
        "    }\n",
        "    letters_map = dict(\n",
        "        {\n",
        "            letter: k\n",
        "            for k, letters_list in letters.items()\n",
        "            for letter in letters_list\n",
        "        }\n",
        "    )\n",
        "    normalized_text = text.translate(str.maketrans(letters_map))\n",
        "    return normalized_text\n",
        "\n",
        "def remove_chakl(text):\n",
        "\n",
        "    if not text:\n",
        "        return text\n",
        "    tashkeel_regex = re.compile(r\"[\\u064b-\\u0652]\")\n",
        "    return tashkeel_regex.sub(\"\", text)\n",
        "\n",
        "def replace_french_with_arabic(text): #Remplacer les lettres françaises par leurs équivalents arabes\n",
        "    french_to_arabic = {\n",
        "        'a': 'ا', 'b': 'ب',\n",
        "        'c': 'س', 'd': 'د',\n",
        "        'e': u'\\u064f', 'f': 'ف',\n",
        "        'g': 'ج', 'h': 'ه',\n",
        "        'i': u'\\u0650', 'j': 'ج',\n",
        "        'k': 'ك', 'l': 'ل',\n",
        "        'm': 'م', 'n': 'ن',\n",
        "        'o': 'و', 'p': 'ب',\n",
        "        'q': 'ق', 'r': 'ر',\n",
        "        's': 'س', 't': 'ت',\n",
        "        'u': 'و', 'v': 'ف',\n",
        "        'w': 'و', 'x': 'كس',\n",
        "        'y': 'ي', 'z': 'ز',\n",
        "        '3':'ع', '5':'خ',\n",
        "        '9':'ق'\n",
        "    }\n",
        "    result = []\n",
        "    for char in text:\n",
        "        if char.isalpha() and char.lower() in french_to_arabic:\n",
        "            replacement = french_to_arabic[char.lower()]\n",
        "            result.append(replacement)\n",
        "        else:\n",
        "            result.append(char)\n",
        "    return ''.join(result)\n",
        "\n",
        "def custom_replace359(text):\n",
        "\n",
        "    replacements = {\n",
        "        '3': 'ع',\n",
        "        '5': 'خ',\n",
        "        '9': 'ق',\n",
        "        '7': 'ح',\n",
        "        '2':'ا'\n",
        "    }\n",
        "\n",
        "    result = []\n",
        "    i = 0\n",
        "    while i < len(text):\n",
        "        char = text[i]\n",
        "        if char.isdigit() and char in replacements:\n",
        "            prev_char = text[i-1] if i-1 >= 0 else None\n",
        "            next_char = text[i+1] if i+1 < len(text) else None\n",
        "\n",
        "            if (prev_char is None or not prev_char.isdigit()) and (next_char is None or not next_char.isdigit()):\n",
        "                result.append(replacements[char])\n",
        "            else:\n",
        "                result.append(char)\n",
        "        else:\n",
        "            result.append(char)\n",
        "\n",
        "        i += 1\n",
        "\n",
        "    return ''.join(result)\n",
        "\n",
        "def clean_text(text): #Appliquer la séquence de fonctions précédentes\n",
        "    text=remove_empty_lines(text)\n",
        "    text=remove_extra_spaces(text)\n",
        "    text=lowercase(text)\n",
        "    text=remove_tags_hash(text)\n",
        "    text=replace_french_with_arabic(text)\n",
        "    text=remove_chakl(text)\n",
        "    text=custom_replace359(text)\n",
        "    text=normalize_letter(text)\n",
        "    text=remove_repeated(text)\n",
        "    text=remove_digits(text)\n",
        "\n",
        "    return text\n",
        "\n",
        "def load_darija_stop_words(file_path):\n",
        "\n",
        "    with open(file_path, 'r', encoding='utf-8') as file:\n",
        "        stop_words = {word.strip() for word in file}\n",
        "    return stop_words\n",
        "\n",
        "def darija_stop_words_removal(text, stop_words):\n",
        "\n",
        "    words = text.split()\n",
        "    cleaned_words = [word for word in words if word not in stop_words]\n",
        "    return \" \".join(cleaned_words)\n",
        "\n",
        "\n",
        "\n",
        "import nltk\n",
        "from nltk.tokenize import word_tokenize\n",
        "def word_tokenize(text):\n",
        "    text = re.sub(r\"[^\\w\\s]\", \"\", text)\n",
        "    words = text.split()\n",
        "    return words\n",
        "\n",
        "def clean_all_values(df):\n",
        "    df['text'] = df['text'].astype(str)\n",
        "    df['text'] = df['text'].apply(clean_text)\n",
        "    return df\n",
        "\n",
        "def stopwordsdarija(df, stop_words_file):\n",
        "    stop_words = load_darija_stop_words(stop_words_file)\n",
        "    df['text'] = df['text'].apply(lambda text: darija_stop_words_removal(text, stop_words))\n",
        "    return df\n",
        "\n"
      ],
      "metadata": {
        "id": "zHGy2nWxjsor"
      },
      "execution_count": null,
      "outputs": []
    },
    {
      "cell_type": "code",
      "source": [
        "# Importer les bibliothèques nécessaires\n",
        "from sklearn.feature_extraction.text import CountVectorizer\n",
        "import pandas as pd\n",
        "from sklearn.model_selection import train_test_split\n",
        "from sklearn.preprocessing import LabelEncoder\n",
        "from sklearn.metrics import accuracy_score\n",
        "import nltk\n",
        "nltk.download('punkt')\n",
        "from nltk.tokenize import word_tokenize\n",
        "\n",
        "# Charger le fichier CSV\n",
        "data = pd.read_csv(\"/content/all2.csv\", header=0)\n",
        "data.drop_duplicates(inplace=True)\n",
        "\n",
        "#applying the cleaning\n",
        "data = clean_all_values(data)\n",
        "#data = stopwordsdarija(data, '/content/stop_words.txt')\n",
        "\n",
        "# Sélectionner les colonnes\n",
        "data = data[['text', 'Label']]\n",
        "data = data[data['Label'] != 'Neutral']\n",
        "texts = data['text']  # Extraire les textes\n",
        "tags = data['Label']  # Extraire les labels\n",
        "\n",
        "# Partition des données en ensembles d'entraînement et de test\n",
        "texts_train, texts_test, tags_train, tags_test = train_test_split(texts, tags, test_size=0.2, random_state=42)\n",
        "\n",
        "# Créer le vectoriseur avec le tokenizer personnalisé\n",
        "tokenizer = CountVectorizer(tokenizer=word_tokenize)\n",
        "\n",
        "# Extraction des caractéristiques des textes en utilisant le tokenizer personnalisé\n",
        "x_train = tokenizer.fit_transform(texts_train)\n",
        "x_test = tokenizer.transform(texts_test)\n",
        "\n",
        "encoder = LabelEncoder()  # Créer un encodeur de labels\n",
        "encoder.fit(tags_train)  # Entraîner l'encodeur sur les labels d'entraînement\n",
        "num_classes = len(encoder.classes_)  # Nombre de classes (labels)\n",
        "\n",
        "# Convertir les labels en valeurs numériques encodées\n",
        "y_train = encoder.transform(tags_train)\n",
        "y_test = encoder.transform(tags_test)"
      ],
      "metadata": {
        "colab": {
          "base_uri": "https://localhost:8080/"
        },
        "id": "TP1suc5wmk5F",
        "outputId": "929e47f8-8bb0-4bbc-99ae-ab6beaaaec19"
      },
      "execution_count": null,
      "outputs": [
        {
          "output_type": "stream",
          "name": "stderr",
          "text": [
            "[nltk_data] Downloading package punkt to /root/nltk_data...\n",
            "[nltk_data]   Package punkt is already up-to-date!\n",
            "/usr/local/lib/python3.10/dist-packages/sklearn/feature_extraction/text.py:528: UserWarning: The parameter 'token_pattern' will not be used since 'tokenizer' is not None'\n",
            "  warnings.warn(\n"
          ]
        }
      ]
    },
    {
      "cell_type": "code",
      "source": [
        "from sklearn.neural_network import MLPClassifier"
      ],
      "metadata": {
        "id": "0uMiWvsipX3N"
      },
      "execution_count": null,
      "outputs": []
    },
    {
      "cell_type": "code",
      "source": [
        "# Créer et entraîner le modèle de réseau neuronal multicouche\n",
        "model = MLPClassifier(hidden_layer_sizes=(1024, 1024), alpha=1e-5, activation='relu', solver='adam', learning_rate_init=0.01, random_state=1)\n",
        "model.fit(x_train, y_train)"
      ],
      "metadata": {
        "colab": {
          "base_uri": "https://localhost:8080/",
          "height": 92
        },
        "id": "Yn03ZCVd4SvQ",
        "outputId": "6c22b107-d32d-495f-902a-d5872fa661aa"
      },
      "execution_count": null,
      "outputs": [
        {
          "output_type": "execute_result",
          "data": {
            "text/plain": [
              "MLPClassifier(alpha=1e-05, hidden_layer_sizes=(1024, 1024),\n",
              "              learning_rate_init=0.01, random_state=1)"
            ],
            "text/html": [
              "<style>#sk-container-id-5 {color: black;background-color: white;}#sk-container-id-5 pre{padding: 0;}#sk-container-id-5 div.sk-toggleable {background-color: white;}#sk-container-id-5 label.sk-toggleable__label {cursor: pointer;display: block;width: 100%;margin-bottom: 0;padding: 0.3em;box-sizing: border-box;text-align: center;}#sk-container-id-5 label.sk-toggleable__label-arrow:before {content: \"▸\";float: left;margin-right: 0.25em;color: #696969;}#sk-container-id-5 label.sk-toggleable__label-arrow:hover:before {color: black;}#sk-container-id-5 div.sk-estimator:hover label.sk-toggleable__label-arrow:before {color: black;}#sk-container-id-5 div.sk-toggleable__content {max-height: 0;max-width: 0;overflow: hidden;text-align: left;background-color: #f0f8ff;}#sk-container-id-5 div.sk-toggleable__content pre {margin: 0.2em;color: black;border-radius: 0.25em;background-color: #f0f8ff;}#sk-container-id-5 input.sk-toggleable__control:checked~div.sk-toggleable__content {max-height: 200px;max-width: 100%;overflow: auto;}#sk-container-id-5 input.sk-toggleable__control:checked~label.sk-toggleable__label-arrow:before {content: \"▾\";}#sk-container-id-5 div.sk-estimator input.sk-toggleable__control:checked~label.sk-toggleable__label {background-color: #d4ebff;}#sk-container-id-5 div.sk-label input.sk-toggleable__control:checked~label.sk-toggleable__label {background-color: #d4ebff;}#sk-container-id-5 input.sk-hidden--visually {border: 0;clip: rect(1px 1px 1px 1px);clip: rect(1px, 1px, 1px, 1px);height: 1px;margin: -1px;overflow: hidden;padding: 0;position: absolute;width: 1px;}#sk-container-id-5 div.sk-estimator {font-family: monospace;background-color: #f0f8ff;border: 1px dotted black;border-radius: 0.25em;box-sizing: border-box;margin-bottom: 0.5em;}#sk-container-id-5 div.sk-estimator:hover {background-color: #d4ebff;}#sk-container-id-5 div.sk-parallel-item::after {content: \"\";width: 100%;border-bottom: 1px solid gray;flex-grow: 1;}#sk-container-id-5 div.sk-label:hover label.sk-toggleable__label {background-color: #d4ebff;}#sk-container-id-5 div.sk-serial::before {content: \"\";position: absolute;border-left: 1px solid gray;box-sizing: border-box;top: 0;bottom: 0;left: 50%;z-index: 0;}#sk-container-id-5 div.sk-serial {display: flex;flex-direction: column;align-items: center;background-color: white;padding-right: 0.2em;padding-left: 0.2em;position: relative;}#sk-container-id-5 div.sk-item {position: relative;z-index: 1;}#sk-container-id-5 div.sk-parallel {display: flex;align-items: stretch;justify-content: center;background-color: white;position: relative;}#sk-container-id-5 div.sk-item::before, #sk-container-id-5 div.sk-parallel-item::before {content: \"\";position: absolute;border-left: 1px solid gray;box-sizing: border-box;top: 0;bottom: 0;left: 50%;z-index: -1;}#sk-container-id-5 div.sk-parallel-item {display: flex;flex-direction: column;z-index: 1;position: relative;background-color: white;}#sk-container-id-5 div.sk-parallel-item:first-child::after {align-self: flex-end;width: 50%;}#sk-container-id-5 div.sk-parallel-item:last-child::after {align-self: flex-start;width: 50%;}#sk-container-id-5 div.sk-parallel-item:only-child::after {width: 0;}#sk-container-id-5 div.sk-dashed-wrapped {border: 1px dashed gray;margin: 0 0.4em 0.5em 0.4em;box-sizing: border-box;padding-bottom: 0.4em;background-color: white;}#sk-container-id-5 div.sk-label label {font-family: monospace;font-weight: bold;display: inline-block;line-height: 1.2em;}#sk-container-id-5 div.sk-label-container {text-align: center;}#sk-container-id-5 div.sk-container {/* jupyter's `normalize.less` sets `[hidden] { display: none; }` but bootstrap.min.css set `[hidden] { display: none !important; }` so we also need the `!important` here to be able to override the default hidden behavior on the sphinx rendered scikit-learn.org. See: https://github.com/scikit-learn/scikit-learn/issues/21755 */display: inline-block !important;position: relative;}#sk-container-id-5 div.sk-text-repr-fallback {display: none;}</style><div id=\"sk-container-id-5\" class=\"sk-top-container\"><div class=\"sk-text-repr-fallback\"><pre>MLPClassifier(alpha=1e-05, hidden_layer_sizes=(1024, 1024),\n",
              "              learning_rate_init=0.01, random_state=1)</pre><b>In a Jupyter environment, please rerun this cell to show the HTML representation or trust the notebook. <br />On GitHub, the HTML representation is unable to render, please try loading this page with nbviewer.org.</b></div><div class=\"sk-container\" hidden><div class=\"sk-item\"><div class=\"sk-estimator sk-toggleable\"><input class=\"sk-toggleable__control sk-hidden--visually\" id=\"sk-estimator-id-5\" type=\"checkbox\" checked><label for=\"sk-estimator-id-5\" class=\"sk-toggleable__label sk-toggleable__label-arrow\">MLPClassifier</label><div class=\"sk-toggleable__content\"><pre>MLPClassifier(alpha=1e-05, hidden_layer_sizes=(1024, 1024),\n",
              "              learning_rate_init=0.01, random_state=1)</pre></div></div></div></div></div>"
            ]
          },
          "metadata": {},
          "execution_count": 58
        }
      ]
    },
    {
      "cell_type": "code",
      "source": [
        "# Prédiction sur l'ensemble de test\n",
        "y_pred_test = model.predict(x_test)\n",
        "# Prédiction sur l'ensemble de training\n",
        "y_pred_train = model.predict(x_train)"
      ],
      "metadata": {
        "id": "-KgnRFlf6WW8"
      },
      "execution_count": null,
      "outputs": []
    },
    {
      "cell_type": "code",
      "source": [
        "exactitude_train = accuracy_score(y_pred_train, y_train)\n",
        "exactitude_test = accuracy_score(y_pred_test, y_test)\n",
        "print(\"Exactitude sur le Train set:\", exactitude_train)\n",
        "print(\"Exactitude sur le Test set:\", exactitude_test)"
      ],
      "metadata": {
        "id": "Yih3fG366Z14",
        "colab": {
          "base_uri": "https://localhost:8080/"
        },
        "outputId": "456216d7-07b4-4286-def4-a8b87305dce1"
      },
      "execution_count": null,
      "outputs": [
        {
          "output_type": "stream",
          "name": "stdout",
          "text": [
            "Exactitude sur le Train set: 0.9973492379058979\n",
            "Exactitude sur le Test set: 0.8622151563328034\n"
          ]
        }
      ]
    },
    {
      "cell_type": "code",
      "source": [
        "# Fonction de prédiction du label\n",
        "def predict_label(text):\n",
        "    preprocessed_text = tokenizer.transform([text])  # Convertir le texte en représentation vectorielle\n",
        "    predicted_label = model.predict(preprocessed_text)  # Faire la prédiction\n",
        "    predicted_label = encoder.inverse_transform(predicted_label)  # Convertir les valeurs numériques en labels\n",
        "    print(\"Le label prédit est :\", predicted_label[0])"
      ],
      "metadata": {
        "id": "JNSd8zc46_Hp"
      },
      "execution_count": null,
      "outputs": []
    },
    {
      "cell_type": "code",
      "source": [
        "# Repeatedly ask for new text input and predict the label\n",
        "while True:\n",
        "    # Input a text for prediction\n",
        "    text_input = input('Entrez un texte (ou tapez \"q\" pour quitter) : ')\n",
        "    if text_input.lower() == 'q':\n",
        "        break\n",
        "    predict_label(text_input)"
      ],
      "metadata": {
        "id": "mrAhzKre7CGi",
        "colab": {
          "base_uri": "https://localhost:8080/"
        },
        "outputId": "566fb640-5354-4790-ca3e-fffa9aa293fc"
      },
      "execution_count": null,
      "outputs": [
        {
          "name": "stdout",
          "output_type": "stream",
          "text": [
            "Entrez un texte (ou tapez \"q\" pour quitter) : ما خدمة ما والو\n",
            "Le label prédit est : Positive\n",
            "Entrez un texte (ou tapez \"q\" pour quitter) : اش هاد السيربيس عندكم كليان زايد ناقص شحال وانا منشور قدام لاجونص و فلخر فاش وصلات نوبتي ديك خليتي كاتنفخ بحالا هي اللي غتعطيني من فلوسها\n",
            "Le label prédit est : Neutral\n",
            "Entrez un texte (ou tapez \"q\" pour quitter) : صالون غزال و غايمشي بعيد، ليكيب بروفسيونيل، جربت بزاف ليساج ولكن راه ليساج بلاك دايمند. يالهم ما كينش حسن منو\n",
            "Le label prédit est : Negative\n",
            "Entrez un texte (ou tapez \"q\" pour quitter) : واحد الريزو ديال الله احسن العوان اوصافي\n",
            "Le label prédit est : Negative\n",
            "Entrez un texte (ou tapez \"q\" pour quitter) : هاااا القوالب لي مابغيناش😡\n",
            "Le label prédit est : Neutral\n",
            "Entrez un texte (ou tapez \"q\" pour quitter) : انوي مزيانا و مخيرة ف المغرب كامل\n",
            "Le label prédit est : Neutral\n",
            "Entrez un texte (ou tapez \"q\" pour quitter) : q\n"
          ]
        }
      ]
    },
    {
      "cell_type": "code",
      "source": [
        "from sklearn.metrics import confusion_matrix\n",
        "import matplotlib.pyplot as plt\n",
        "import seaborn as sns\n",
        "\n",
        "fig, axes = plt.subplots(1, 2, figsize=(12, 4))\n",
        "# Training set confusion matrix\n",
        "sns.heatmap(confusion_matrix(y_train, y_pred_train), annot=True, fmt='d', cmap='Blues', ax=axes[0])\n",
        "axes[0].set_title('Confusion Matrix (Training Set)')\n",
        "axes[0].set_xlabel('Predicted Label')\n",
        "axes[0].set_ylabel('True Label')\n",
        "# Test set confusion matrix\n",
        "sns.heatmap(confusion_matrix(y_test, y_pred_test), annot=True, fmt='d', cmap='Reds', ax=axes[1])\n",
        "axes[1].set_title('Confusion Matrix (Test Set)')\n",
        "axes[1].set_xlabel('Predicted Label')\n",
        "axes[1].set_ylabel('True Label')\n",
        "plt.show()"
      ],
      "metadata": {
        "id": "fJfx_iOe7KCV",
        "colab": {
          "base_uri": "https://localhost:8080/",
          "height": 410
        },
        "outputId": "74d8d824-cd8c-44fe-d1c9-1e732fa99763"
      },
      "execution_count": null,
      "outputs": [
        {
          "output_type": "display_data",
          "data": {
            "text/plain": [
              "<Figure size 1200x400 with 4 Axes>"
            ],
            "image/png": "[encoded data removed]"
          },
          "metadata": {}
        }
      ]
    },
    {
      "cell_type": "code",
      "source": [
        "# Créer et entraîner le modèle de réseau neuronal multicouche\n",
        "model1 = MLPClassifier(hidden_layer_sizes=(1024,), activation='relu', solver='adam', learning_rate_init=0.001)\n",
        "model1.fit(x_train, y_train)"
      ],
      "metadata": {
        "colab": {
          "base_uri": "https://localhost:8080/",
          "height": 75
        },
        "id": "6txL4t-mqJD9",
        "outputId": "85e1418d-6901-4bdd-e9cc-61cd4f868ff0"
      },
      "execution_count": null,
      "outputs": [
        {
          "output_type": "execute_result",
          "data": {
            "text/plain": [
              "MLPClassifier(hidden_layer_sizes=(1024,))"
            ],
            "text/html": [
              "<style>#sk-container-id-6 {color: black;background-color: white;}#sk-container-id-6 pre{padding: 0;}#sk-container-id-6 div.sk-toggleable {background-color: white;}#sk-container-id-6 label.sk-toggleable__label {cursor: pointer;display: block;width: 100%;margin-bottom: 0;padding: 0.3em;box-sizing: border-box;text-align: center;}#sk-container-id-6 label.sk-toggleable__label-arrow:before {content: \"▸\";float: left;margin-right: 0.25em;color: #696969;}#sk-container-id-6 label.sk-toggleable__label-arrow:hover:before {color: black;}#sk-container-id-6 div.sk-estimator:hover label.sk-toggleable__label-arrow:before {color: black;}#sk-container-id-6 div.sk-toggleable__content {max-height: 0;max-width: 0;overflow: hidden;text-align: left;background-color: #f0f8ff;}#sk-container-id-6 div.sk-toggleable__content pre {margin: 0.2em;color: black;border-radius: 0.25em;background-color: #f0f8ff;}#sk-container-id-6 input.sk-toggleable__control:checked~div.sk-toggleable__content {max-height: 200px;max-width: 100%;overflow: auto;}#sk-container-id-6 input.sk-toggleable__control:checked~label.sk-toggleable__label-arrow:before {content: \"▾\";}#sk-container-id-6 div.sk-estimator input.sk-toggleable__control:checked~label.sk-toggleable__label {background-color: #d4ebff;}#sk-container-id-6 div.sk-label input.sk-toggleable__control:checked~label.sk-toggleable__label {background-color: #d4ebff;}#sk-container-id-6 input.sk-hidden--visually {border: 0;clip: rect(1px 1px 1px 1px);clip: rect(1px, 1px, 1px, 1px);height: 1px;margin: -1px;overflow: hidden;padding: 0;position: absolute;width: 1px;}#sk-container-id-6 div.sk-estimator {font-family: monospace;background-color: #f0f8ff;border: 1px dotted black;border-radius: 0.25em;box-sizing: border-box;margin-bottom: 0.5em;}#sk-container-id-6 div.sk-estimator:hover {background-color: #d4ebff;}#sk-container-id-6 div.sk-parallel-item::after {content: \"\";width: 100%;border-bottom: 1px solid gray;flex-grow: 1;}#sk-container-id-6 div.sk-label:hover label.sk-toggleable__label {background-color: #d4ebff;}#sk-container-id-6 div.sk-serial::before {content: \"\";position: absolute;border-left: 1px solid gray;box-sizing: border-box;top: 0;bottom: 0;left: 50%;z-index: 0;}#sk-container-id-6 div.sk-serial {display: flex;flex-direction: column;align-items: center;background-color: white;padding-right: 0.2em;padding-left: 0.2em;position: relative;}#sk-container-id-6 div.sk-item {position: relative;z-index: 1;}#sk-container-id-6 div.sk-parallel {display: flex;align-items: stretch;justify-content: center;background-color: white;position: relative;}#sk-container-id-6 div.sk-item::before, #sk-container-id-6 div.sk-parallel-item::before {content: \"\";position: absolute;border-left: 1px solid gray;box-sizing: border-box;top: 0;bottom: 0;left: 50%;z-index: -1;}#sk-container-id-6 div.sk-parallel-item {display: flex;flex-direction: column;z-index: 1;position: relative;background-color: white;}#sk-container-id-6 div.sk-parallel-item:first-child::after {align-self: flex-end;width: 50%;}#sk-container-id-6 div.sk-parallel-item:last-child::after {align-self: flex-start;width: 50%;}#sk-container-id-6 div.sk-parallel-item:only-child::after {width: 0;}#sk-container-id-6 div.sk-dashed-wrapped {border: 1px dashed gray;margin: 0 0.4em 0.5em 0.4em;box-sizing: border-box;padding-bottom: 0.4em;background-color: white;}#sk-container-id-6 div.sk-label label {font-family: monospace;font-weight: bold;display: inline-block;line-height: 1.2em;}#sk-container-id-6 div.sk-label-container {text-align: center;}#sk-container-id-6 div.sk-container {/* jupyter's `normalize.less` sets `[hidden] { display: none; }` but bootstrap.min.css set `[hidden] { display: none !important; }` so we also need the `!important` here to be able to override the default hidden behavior on the sphinx rendered scikit-learn.org. See: https://github.com/scikit-learn/scikit-learn/issues/21755 */display: inline-block !important;position: relative;}#sk-container-id-6 div.sk-text-repr-fallback {display: none;}</style><div id=\"sk-container-id-6\" class=\"sk-top-container\"><div class=\"sk-text-repr-fallback\"><pre>MLPClassifier(hidden_layer_sizes=(1024,))</pre><b>In a Jupyter environment, please rerun this cell to show the HTML representation or trust the notebook. <br />On GitHub, the HTML representation is unable to render, please try loading this page with nbviewer.org.</b></div><div class=\"sk-container\" hidden><div class=\"sk-item\"><div class=\"sk-estimator sk-toggleable\"><input class=\"sk-toggleable__control sk-hidden--visually\" id=\"sk-estimator-id-6\" type=\"checkbox\" checked><label for=\"sk-estimator-id-6\" class=\"sk-toggleable__label sk-toggleable__label-arrow\">MLPClassifier</label><div class=\"sk-toggleable__content\"><pre>MLPClassifier(hidden_layer_sizes=(1024,))</pre></div></div></div></div></div>"
            ]
          },
          "metadata": {},
          "execution_count": 62
        }
      ]
    },
    {
      "cell_type": "code",
      "source": [
        "# Prédiction sur l'ensemble de test\n",
        "y_pred_test1 = model1.predict(x_test)\n",
        "# Prédiction sur l'ensemble de training\n",
        "y_pred_train1 = model1.predict(x_train)\n",
        "\n",
        "from sklearn.metrics import accuracy_score\n",
        "exactitude_train1 = accuracy_score(y_pred_train1, y_train)\n",
        "exactitude_test1 = accuracy_score(y_pred_test1, y_test)\n",
        "print(\"Exactitude sur le Train set:\", exactitude_train1)\n",
        "print(\"Exactitude sur le Test set:\", exactitude_test1)"
      ],
      "metadata": {
        "colab": {
          "base_uri": "https://localhost:8080/"
        },
        "id": "wTxwUzVQ_vmS",
        "outputId": "625037fe-17b8-4c7b-8cd3-11f5bf7e1172"
      },
      "execution_count": null,
      "outputs": [
        {
          "output_type": "stream",
          "name": "stdout",
          "text": [
            "Exactitude sur le Train set: 0.9973492379058979\n",
            "Exactitude sur le Test set: 0.8823529411764706\n"
          ]
        }
      ]
    },
    {
      "cell_type": "code",
      "source": [
        "fig, axes = plt.subplots(1, 2, figsize=(12, 4))\n",
        "# Training set confusion matrix\n",
        "sns.heatmap(confusion_matrix(y_train, y_pred_train1), annot=True, fmt='d', cmap='Blues', ax=axes[0])\n",
        "axes[0].set_title('Confusion Matrix (Training Set)')\n",
        "axes[0].set_xlabel('Predicted Label')\n",
        "axes[0].set_ylabel('True Label')\n",
        "# Test set confusion matrix\n",
        "sns.heatmap(confusion_matrix(y_test, y_pred_test1), annot=True, fmt='d', cmap='Reds', ax=axes[1])\n",
        "axes[1].set_title('Confusion Matrix (Test Set)')\n",
        "axes[1].set_xlabel('Predicted Label')\n",
        "axes[1].set_ylabel('True Label')\n",
        "plt.show()"
      ],
      "metadata": {
        "colab": {
          "base_uri": "https://localhost:8080/",
          "height": 410
        },
        "id": "wmbnxf3RBgJp",
        "outputId": "de239ce5-dd9f-44ec-e0a9-8033d08b76ec"
      },
      "execution_count": null,
      "outputs": [
        {
          "output_type": "display_data",
          "data": {
            "text/plain": [
              "<Figure size 1200x400 with 4 Axes>"
            ],
            "image/png": "[encoded data removed]"
          },
          "metadata": {}
        }
      ]
    },
    {
      "cell_type": "code",
      "source": [
        "confusion_matrix(y_test, y_pred_test1)"
      ],
      "metadata": {
        "colab": {
          "base_uri": "https://localhost:8080/"
        },
        "id": "ZRTEdcQPylad",
        "outputId": "bc44b820-8dd5-41f5-f23b-7fe86921ae67"
      },
      "execution_count": null,
      "outputs": [
        {
          "output_type": "execute_result",
          "data": {
            "text/plain": [
              "array([[840, 121],\n",
              "       [101, 825]])"
            ]
          },
          "metadata": {},
          "execution_count": 69
        }
      ]
    },
    {
      "cell_type": "code",
      "source": [
        "# Créer et entraîner le modèle de réseau neuronal multicouche\n",
        "model3 = MLPClassifier(hidden_layer_sizes=(1024, 1024), alpha=1e-5, activation='relu', solver='adam', learning_rate_init=0.001, random_state=1)\n",
        "model3.fit(x_train, y_train)"
      ],
      "metadata": {
        "colab": {
          "base_uri": "https://localhost:8080/",
          "height": 75
        },
        "id": "dv2V6v_POYJ1",
        "outputId": "0bf8d696-82f5-44ef-c696-7d1b0d8098a1"
      },
      "execution_count": null,
      "outputs": [
        {
          "output_type": "execute_result",
          "data": {
            "text/plain": [
              "MLPClassifier(alpha=1e-05, hidden_layer_sizes=(1024, 1024), random_state=1)"
            ],
            "text/html": [
              "<style>#sk-container-id-7 {color: black;background-color: white;}#sk-container-id-7 pre{padding: 0;}#sk-container-id-7 div.sk-toggleable {background-color: white;}#sk-container-id-7 label.sk-toggleable__label {cursor: pointer;display: block;width: 100%;margin-bottom: 0;padding: 0.3em;box-sizing: border-box;text-align: center;}#sk-container-id-7 label.sk-toggleable__label-arrow:before {content: \"▸\";float: left;margin-right: 0.25em;color: #696969;}#sk-container-id-7 label.sk-toggleable__label-arrow:hover:before {color: black;}#sk-container-id-7 div.sk-estimator:hover label.sk-toggleable__label-arrow:before {color: black;}#sk-container-id-7 div.sk-toggleable__content {max-height: 0;max-width: 0;overflow: hidden;text-align: left;background-color: #f0f8ff;}#sk-container-id-7 div.sk-toggleable__content pre {margin: 0.2em;color: black;border-radius: 0.25em;background-color: #f0f8ff;}#sk-container-id-7 input.sk-toggleable__control:checked~div.sk-toggleable__content {max-height: 200px;max-width: 100%;overflow: auto;}#sk-container-id-7 input.sk-toggleable__control:checked~label.sk-toggleable__label-arrow:before {content: \"▾\";}#sk-container-id-7 div.sk-estimator input.sk-toggleable__control:checked~label.sk-toggleable__label {background-color: #d4ebff;}#sk-container-id-7 div.sk-label input.sk-toggleable__control:checked~label.sk-toggleable__label {background-color: #d4ebff;}#sk-container-id-7 input.sk-hidden--visually {border: 0;clip: rect(1px 1px 1px 1px);clip: rect(1px, 1px, 1px, 1px);height: 1px;margin: -1px;overflow: hidden;padding: 0;position: absolute;width: 1px;}#sk-container-id-7 div.sk-estimator {font-family: monospace;background-color: #f0f8ff;border: 1px dotted black;border-radius: 0.25em;box-sizing: border-box;margin-bottom: 0.5em;}#sk-container-id-7 div.sk-estimator:hover {background-color: #d4ebff;}#sk-container-id-7 div.sk-parallel-item::after {content: \"\";width: 100%;border-bottom: 1px solid gray;flex-grow: 1;}#sk-container-id-7 div.sk-label:hover label.sk-toggleable__label {background-color: #d4ebff;}#sk-container-id-7 div.sk-serial::before {content: \"\";position: absolute;border-left: 1px solid gray;box-sizing: border-box;top: 0;bottom: 0;left: 50%;z-index: 0;}#sk-container-id-7 div.sk-serial {display: flex;flex-direction: column;align-items: center;background-color: white;padding-right: 0.2em;padding-left: 0.2em;position: relative;}#sk-container-id-7 div.sk-item {position: relative;z-index: 1;}#sk-container-id-7 div.sk-parallel {display: flex;align-items: stretch;justify-content: center;background-color: white;position: relative;}#sk-container-id-7 div.sk-item::before, #sk-container-id-7 div.sk-parallel-item::before {content: \"\";position: absolute;border-left: 1px solid gray;box-sizing: border-box;top: 0;bottom: 0;left: 50%;z-index: -1;}#sk-container-id-7 div.sk-parallel-item {display: flex;flex-direction: column;z-index: 1;position: relative;background-color: white;}#sk-container-id-7 div.sk-parallel-item:first-child::after {align-self: flex-end;width: 50%;}#sk-container-id-7 div.sk-parallel-item:last-child::after {align-self: flex-start;width: 50%;}#sk-container-id-7 div.sk-parallel-item:only-child::after {width: 0;}#sk-container-id-7 div.sk-dashed-wrapped {border: 1px dashed gray;margin: 0 0.4em 0.5em 0.4em;box-sizing: border-box;padding-bottom: 0.4em;background-color: white;}#sk-container-id-7 div.sk-label label {font-family: monospace;font-weight: bold;display: inline-block;line-height: 1.2em;}#sk-container-id-7 div.sk-label-container {text-align: center;}#sk-container-id-7 div.sk-container {/* jupyter's `normalize.less` sets `[hidden] { display: none; }` but bootstrap.min.css set `[hidden] { display: none !important; }` so we also need the `!important` here to be able to override the default hidden behavior on the sphinx rendered scikit-learn.org. See: https://github.com/scikit-learn/scikit-learn/issues/21755 */display: inline-block !important;position: relative;}#sk-container-id-7 div.sk-text-repr-fallback {display: none;}</style><div id=\"sk-container-id-7\" class=\"sk-top-container\"><div class=\"sk-text-repr-fallback\"><pre>MLPClassifier(alpha=1e-05, hidden_layer_sizes=(1024, 1024), random_state=1)</pre><b>In a Jupyter environment, please rerun this cell to show the HTML representation or trust the notebook. <br />On GitHub, the HTML representation is unable to render, please try loading this page with nbviewer.org.</b></div><div class=\"sk-container\" hidden><div class=\"sk-item\"><div class=\"sk-estimator sk-toggleable\"><input class=\"sk-toggleable__control sk-hidden--visually\" id=\"sk-estimator-id-7\" type=\"checkbox\" checked><label for=\"sk-estimator-id-7\" class=\"sk-toggleable__label sk-toggleable__label-arrow\">MLPClassifier</label><div class=\"sk-toggleable__content\"><pre>MLPClassifier(alpha=1e-05, hidden_layer_sizes=(1024, 1024), random_state=1)</pre></div></div></div></div></div>"
            ]
          },
          "metadata": {},
          "execution_count": 65
        }
      ]
    },
    {
      "cell_type": "code",
      "source": [
        "# Prédiction sur l'ensemble de test\n",
        "y_pred_test3 = model3.predict(x_test)\n",
        "# Prédiction sur l'ensemble de training\n",
        "y_pred_train3 = model3.predict(x_train)"
      ],
      "metadata": {
        "id": "49ov92K3RI37"
      },
      "execution_count": null,
      "outputs": []
    },
    {
      "cell_type": "code",
      "source": [
        "exactitude_train3 = accuracy_score(y_pred_train3, y_train)\n",
        "exactitude_test3 = accuracy_score(y_pred_test3, y_test)\n",
        "print(\"Exactitude sur le Train set:\", exactitude_train3)\n",
        "print(\"Exactitude sur le Test set:\", exactitude_test3)"
      ],
      "metadata": {
        "colab": {
          "base_uri": "https://localhost:8080/"
        },
        "id": "dI5LIgbtjK86",
        "outputId": "33e4dd19-b44a-408d-e558-ae5e590c36b1"
      },
      "execution_count": null,
      "outputs": [
        {
          "output_type": "stream",
          "name": "stdout",
          "text": [
            "Exactitude sur le Train set: 0.9973492379058979\n",
            "Exactitude sur le Test set: 0.8749337572866984\n"
          ]
        }
      ]
    },
    {
      "cell_type": "code",
      "source": [
        "# Calculer le nombre d'occurrences de chaque label\n",
        "label_counts = data['Label'].value_counts()\n",
        "print(label_counts)"
      ],
      "metadata": {
        "colab": {
          "base_uri": "https://localhost:8080/"
        },
        "id": "tGs1bCEALAns",
        "outputId": "592bbe72-3f02-479a-ef31-87f6213a0e52"
      },
      "execution_count": null,
      "outputs": [
        {
          "output_type": "stream",
          "name": "stdout",
          "text": [
            "Negative    4822\n",
            "Positive    4610\n",
            "Neutral      630\n",
            "Name: Label, dtype: int64\n"
          ]
        }
      ]
    },
    {
      "cell_type": "code",
      "source": [
        "data = data[data['Label'] != 'Neutral']"
      ],
      "metadata": {
        "id": "mYwQUOaSLVHl"
      },
      "execution_count": null,
      "outputs": []
    },
    {
      "cell_type": "code",
      "source": [
        "# Calculer le nombre d'occurrences de chaque label\n",
        "label_counts = data['Label'].value_counts()\n",
        "\n",
        "print(label_counts)"
      ],
      "metadata": {
        "colab": {
          "base_uri": "https://localhost:8080/"
        },
        "id": "ex_I49YjLbdB",
        "outputId": "94ecaf7b-69df-4509-d820-a7d022703fd6"
      },
      "execution_count": null,
      "outputs": [
        {
          "output_type": "stream",
          "name": "stdout",
          "text": [
            "Negative    4822\n",
            "Positive    4610\n",
            "Name: Label, dtype: int64\n"
          ]
        }
      ]
    }
  ],
  "metadata": {
    "colab": {
      "provenance": [],
      "include_colab_link": true
    },
    "kernelspec": {
      "display_name": "Python 3",
      "name": "python3"
    },
    "language_info": {
      "name": "python"
    }
  },
  "nbformat": 4,
  "nbformat_minor": 0
}